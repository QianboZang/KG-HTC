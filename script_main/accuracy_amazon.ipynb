{
 "cells": [
  {
   "cell_type": "code",
   "execution_count": 1,
   "metadata": {},
   "outputs": [],
   "source": [
    "import pandas as pd\n",
    "from sklearn.metrics import f1_score"
   ]
  },
  {
   "cell_type": "code",
   "execution_count": 2,
   "metadata": {},
   "outputs": [
    {
     "data": {
      "text/html": [
       "<div>\n",
       "<style scoped>\n",
       "    .dataframe tbody tr th:only-of-type {\n",
       "        vertical-align: middle;\n",
       "    }\n",
       "\n",
       "    .dataframe tbody tr th {\n",
       "        vertical-align: top;\n",
       "    }\n",
       "\n",
       "    .dataframe thead th {\n",
       "        text-align: right;\n",
       "    }\n",
       "</style>\n",
       "<table border=\"1\" class=\"dataframe\">\n",
       "  <thead>\n",
       "    <tr style=\"text-align: right;\">\n",
       "      <th></th>\n",
       "      <th>productId</th>\n",
       "      <th>Title</th>\n",
       "      <th>userId</th>\n",
       "      <th>Helpfulness</th>\n",
       "      <th>Score</th>\n",
       "      <th>Time</th>\n",
       "      <th>Text</th>\n",
       "      <th>Cat1</th>\n",
       "      <th>Cat2</th>\n",
       "      <th>Cat3</th>\n",
       "      <th>gpt3_graph</th>\n",
       "      <th>gpt3_graph_h2</th>\n",
       "      <th>gpt3_graph_h3</th>\n",
       "    </tr>\n",
       "  </thead>\n",
       "  <tbody>\n",
       "    <tr>\n",
       "      <th>0</th>\n",
       "      <td>B0002AQK70</td>\n",
       "      <td>PetSafe Staywell Pet Door with Clear Hard Flap</td>\n",
       "      <td>A2L6QTQQI13LZG</td>\n",
       "      <td>1/1</td>\n",
       "      <td>4</td>\n",
       "      <td>1344211200</td>\n",
       "      <td>We've only had it installed about 2 weeks. So ...</td>\n",
       "      <td>pet supplies</td>\n",
       "      <td>cats</td>\n",
       "      <td>cat flaps</td>\n",
       "      <td>pet supplies</td>\n",
       "      <td>dogs</td>\n",
       "      <td>doors</td>\n",
       "    </tr>\n",
       "    <tr>\n",
       "      <th>1</th>\n",
       "      <td>B0002DK8OI</td>\n",
       "      <td>Kaytee Timothy Cubes, 1-Pound</td>\n",
       "      <td>A2HJUOZ9R9K4F</td>\n",
       "      <td>0/0</td>\n",
       "      <td>1</td>\n",
       "      <td>1344211200</td>\n",
       "      <td>My bunny had a hard time eating this because t...</td>\n",
       "      <td>pet supplies</td>\n",
       "      <td>bunny rabbit central</td>\n",
       "      <td>food</td>\n",
       "      <td>pet supplies</td>\n",
       "      <td>bunny rabbit central</td>\n",
       "      <td>food</td>\n",
       "    </tr>\n",
       "    <tr>\n",
       "      <th>2</th>\n",
       "      <td>B0006VJ6TO</td>\n",
       "      <td>Body Back Buddy</td>\n",
       "      <td>A14PK96LL78NN3</td>\n",
       "      <td>0/0</td>\n",
       "      <td>5</td>\n",
       "      <td>1344211200</td>\n",
       "      <td>would never in a million years have guessed th...</td>\n",
       "      <td>health personal care</td>\n",
       "      <td>health care</td>\n",
       "      <td>massage relaxation</td>\n",
       "      <td>health personal care</td>\n",
       "      <td>health care</td>\n",
       "      <td>massage relaxation</td>\n",
       "    </tr>\n",
       "  </tbody>\n",
       "</table>\n",
       "</div>"
      ],
      "text/plain": [
       "    productId                                           Title          userId  \\\n",
       "0  B0002AQK70  PetSafe Staywell Pet Door with Clear Hard Flap  A2L6QTQQI13LZG   \n",
       "1  B0002DK8OI                   Kaytee Timothy Cubes, 1-Pound   A2HJUOZ9R9K4F   \n",
       "2  B0006VJ6TO                                 Body Back Buddy  A14PK96LL78NN3   \n",
       "\n",
       "  Helpfulness  Score        Time  \\\n",
       "0         1/1      4  1344211200   \n",
       "1         0/0      1  1344211200   \n",
       "2         0/0      5  1344211200   \n",
       "\n",
       "                                                Text                  Cat1  \\\n",
       "0  We've only had it installed about 2 weeks. So ...          pet supplies   \n",
       "1  My bunny had a hard time eating this because t...          pet supplies   \n",
       "2  would never in a million years have guessed th...  health personal care   \n",
       "\n",
       "                   Cat2                Cat3            gpt3_graph  \\\n",
       "0                  cats           cat flaps          pet supplies   \n",
       "1  bunny rabbit central                food          pet supplies   \n",
       "2           health care  massage relaxation  health personal care   \n",
       "\n",
       "          gpt3_graph_h2       gpt3_graph_h3  \n",
       "0                  dogs               doors  \n",
       "1  bunny rabbit central                food  \n",
       "2           health care  massage relaxation  "
      ]
     },
     "execution_count": 2,
     "metadata": {},
     "output_type": "execute_result"
    }
   ],
   "source": [
    "# read the json file\n",
    "df = pd.read_json(\"../dataset/amazon/llm_graph_gpt3_h3.json\")\n",
    "df.head(3)"
   ]
  },
  {
   "cell_type": "code",
   "execution_count": 3,
   "metadata": {},
   "outputs": [
    {
     "data": {
      "text/plain": [
       "0.44481291814438895"
      ]
     },
     "execution_count": 3,
     "metadata": {},
     "output_type": "execute_result"
    }
   ],
   "source": [
    "df[\"gpt3_graph_h3\"] = df[\"gpt3_graph_h3\"].str.replace(\"*\", \"\").str.replace(\"'\", \"\").str.replace('\"', '')\n",
    "df[\"gpt3_graph_h3\"] = df[\"gpt3_graph_h3\"].apply(lambda x: x if x in df[\"Cat3\"].values else df[\"Cat3\"].sample(1).values[0])\n",
    "f1_h3 = f1_score(df[\"gpt3_graph_h3\"], df[\"Cat3\"], average=\"macro\")\n",
    "f1_h3"
   ]
  },
  {
   "cell_type": "code",
   "execution_count": 4,
   "metadata": {},
   "outputs": [
    {
     "data": {
      "text/plain": [
       "0.6549485676618475"
      ]
     },
     "execution_count": 4,
     "metadata": {},
     "output_type": "execute_result"
    }
   ],
   "source": [
    "df[\"gpt3_graph_h2\"] = df[\"gpt3_graph_h2\"].str.replace(\"*\", \"\").str.replace(\"'\", \"\").str.replace('\"', '')\n",
    "# df[\"gpt3_graph_h2\"] = df[\"gpt3_graph_h2\"].fillna(df[\"Cat2\"].sample(len(df)))\n",
    "df[\"gpt3_graph_h2\"] = df[\"gpt3_graph_h2\"].apply(lambda x: x if x in df[\"Cat2\"].values else df[\"Cat2\"].sample(1).values[0])\n",
    "f1_h2 = f1_score(df[\"gpt3_graph_h2\"], df[\"Cat2\"], average=\"macro\")\n",
    "f1_h2"
   ]
  },
  {
   "cell_type": "code",
   "execution_count": 5,
   "metadata": {},
   "outputs": [
    {
     "data": {
      "text/plain": [
       "0.9087607336430642"
      ]
     },
     "execution_count": 5,
     "metadata": {},
     "output_type": "execute_result"
    }
   ],
   "source": [
    "df[\"gpt3_graph\"] = df[\"gpt3_graph\"].str.replace(\"*\", \"\").str.replace(\"'\", \"\").str.replace('\"', '')\n",
    "df[\"gpt3_graph\"] = df[\"gpt3_graph\"].apply(lambda x: x if x in df[\"Cat1\"].values else df[\"Cat1\"].sample(1).values[0])\n",
    "f1_only = f1_score(df[\"gpt3_graph\"], df[\"Cat1\"], average=\"macro\")\n",
    "f1_only"
   ]
  },
  {
   "cell_type": "code",
   "execution_count": null,
   "metadata": {},
   "outputs": [],
   "source": []
  }
 ],
 "metadata": {
  "kernelspec": {
   "display_name": "ollama",
   "language": "python",
   "name": "python3"
  },
  "language_info": {
   "codemirror_mode": {
    "name": "ipython",
    "version": 3
   },
   "file_extension": ".py",
   "mimetype": "text/x-python",
   "name": "python",
   "nbconvert_exporter": "python",
   "pygments_lexer": "ipython3",
   "version": "3.12.9"
  }
 },
 "nbformat": 4,
 "nbformat_minor": 2
}
